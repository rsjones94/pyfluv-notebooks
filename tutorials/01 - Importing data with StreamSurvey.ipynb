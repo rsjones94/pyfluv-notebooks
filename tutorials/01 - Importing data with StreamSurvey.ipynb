{
 "cells": [
  {
   "cell_type": "markdown",
   "metadata": {},
   "source": [
    "# Importing stream surveys with the StreamSurvey class"
   ]
  },
  {
   "cell_type": "code",
   "execution_count": 1,
   "metadata": {},
   "outputs": [
    {
     "name": "stderr",
     "output_type": "stream",
     "text": [
      "WARNING:root:Overhangs present in geometry on XS xsFBSUPri.\n",
      "WARNING:root:Overhangs present in geometry on XS xsR1po.\n",
      "WARNING:root:Overhangs present in geometry on XS xsR1ri.\n",
      "WARNING:root:Overhangs present in geometry on XS xsR3po.\n",
      "WARNING:root:Overhangs present in geometry on XS xsR3sup.\n",
      "WARNING:root:Overhangs detected but could not be removed on XS xsR3sup.\n"
     ]
    },
    {
     "name": "stdout",
     "output_type": "stream",
     "text": [
      "664.0486007999999\n"
     ]
    }
   ],
   "source": [
    "import pyfluv\n",
    "\n",
    "survey = pyfluv.piney_survey()\n",
    "\n",
    "xs = survey.get_cross_objects()\n",
    "\n",
    "print(xs[1].wsEl)\n",
    "print(xs[1].df)"
   ]
  },
  {
   "cell_type": "code",
   "execution_count": null,
   "metadata": {},
   "outputs": [],
   "source": []
  }
 ],
 "metadata": {
  "kernelspec": {
   "display_name": "Python 3",
   "language": "python",
   "name": "python3"
  },
  "language_info": {
   "codemirror_mode": {
    "name": "ipython",
    "version": 3
   },
   "file_extension": ".py",
   "mimetype": "text/x-python",
   "name": "python",
   "nbconvert_exporter": "python",
   "pygments_lexer": "ipython3",
   "version": "3.7.0"
  }
 },
 "nbformat": 4,
 "nbformat_minor": 2
}
