{
 "cells": [
  {
   "cell_type": "markdown",
   "metadata": {},
   "source": [
    "# Importing stream surveys with the StreamSurvey class\n",
    "\n",
    "## Basics\n",
    "\n",
    "Most geomorphic surveys are conducted using either a total station or laser level. These data are often stored or transcribed into a tabular format where each row indicates the number, northing, easting, elevation and description of each point (or shot) that was collected. An example of such data can be found [here](https://github.com/rsjones94/pyfluv/blob/master/pyfluv/Data/wpr_myr5_survey_adjusted.csv) (these data are included with pyfluv). Because breaking down the data can be tedious, especially for large datasets, pyfluv includes a StreamSurvey class which parses the data and exports CrossSection and Profile objects."
   ]
  },
  {
   "cell_type": "code",
   "execution_count": 1,
   "metadata": {
    "scrolled": true
   },
   "outputs": [],
   "source": [
    "import pyfluv\n",
    "survey = pyfluv.piney_survey()"
   ]
  },
  {
   "cell_type": "markdown",
   "metadata": {},
   "source": [
    "The above snippet reads in the previously linked tabular survey and returns a StreamSurvey objects. A StreamSurvey object can be initialized with `CrossSection('path/to/your/file.csv')`. By default the csv must contain columns headed with `Name`, `Northing`, `Easting`, and `Description`. Other columns are permitted but are ignored. The `Name` column should contain integers that generally indicate what order the shots were taken in, though the column itself does not need to be ordered. The StreamSurvey object will use the `Description` column to group profiles and cross sections together and decide what morphological feature a given shot corresponds to. Entries must follow the following format:\n",
    "\n",
    "`[morphtype][name]-[indicator1]-[indicator2]-...-[indicatorN]_[comment]`\n",
    "\n",
    "Let's take a look at some rows of data and parse the `Description`."
   ]
  },
  {
   "cell_type": "code",
   "execution_count": 27,
   "metadata": {},
   "outputs": [
    {
     "data": {
      "text/plain": [
       "Name                      5\n",
       "Northing            928.442\n",
       "Easting             952.319\n",
       "Elevation           665.254\n",
       "Description    proFBSUP-bri\n",
       "Name: 2, dtype: object"
      ]
     },
     "execution_count": 27,
     "metadata": {},
     "output_type": "execute_result"
    }
   ],
   "source": [
    "survey.data.iloc[2]"
   ]
  },
  {
   "cell_type": "markdown",
   "metadata": {},
   "source": [
    "The survey data is stored as a `pandas` dataframe so we index into it using `iloc`, and the description is `proFBSUP-bri`. You can check how the StreamSurvey object will parse the descriptions:"
   ]
  },
  {
   "cell_type": "code",
   "execution_count": 6,
   "metadata": {},
   "outputs": [
    {
     "name": "stdout",
     "output_type": "stream",
     "text": [
      "{'Profile': 'pro', 'Thalweg': 'thw', 'Riffle': 'ri', 'Run': 'ru', 'Pool': 'po', 'Glide': 'gl', 'Water Surface': 'ws', 'Bankfull': 'bkf', 'Top of Bank': 'tob', 'Cross Section': 'xs', 'Structure': 'str', 'breakChar': '-', 'commentChar': '_'}\n"
     ]
    }
   ],
   "source": [
    "print(survey.keywords)"
   ]
  },
  {
   "cell_type": "markdown",
   "metadata": {},
   "source": [
    "The keywords attribute is a dictionary that relates survey shorthands to stream features. StreamSurvey will use this dictionary to figure out what a shot represents. The `breakChar` key indicates that a hyphen (`-`) will be used to split the survey description. Characters before the first break will be evaluated for two things: whether or not it corresponds to a profile or a cross section and what reach or cross section group it belongs to. In this case, `proFBSUP` indicates a profile with the name FBSUP. All segments after the first break are evaluated for morphological features. The second segment is `bri` which contains `ri` and so is considered a riffle. The keywords dictionary also contains a `commentChar` key, which tells us that comments are indicated with an underscore (`_`). Any characters after a comment character are not used during parsing."
   ]
  },
  {
   "cell_type": "code",
   "execution_count": 26,
   "metadata": {
    "scrolled": true
   },
   "outputs": [
    {
     "data": {
      "text/plain": [
       "Name                     6\n",
       "Northing           928.298\n",
       "Easting            952.014\n",
       "Elevation          665.703\n",
       "Description    proFBSUP-ws\n",
       "Name: 3, dtype: object"
      ]
     },
     "execution_count": 26,
     "metadata": {},
     "output_type": "execute_result"
    }
   ],
   "source": [
    "survey.data.iloc[3]"
   ]
  },
  {
   "cell_type": "markdown",
   "metadata": {},
   "source": [
    "This next shot is still a profile with the name FBSUP, but the `ws` indicates it is a water surface shot. During parsing, any shots that are not a substrate shot (thalweg, riffle, run, pool, glide) are \"associated\" with the most recent substrate shot, meaning they will take on the northing and easting of that substrate shot. Thalweg calls should be made for profile shots if it is unclear whether or not the substrate is a riffle, run, pool or glide, and profile shots are required to have at least one valid indicator. Cross section shots do not need an indicator but it is assumed it is a substrate shot if nothing is provided.\n",
    "\n",
    "Some care must be taken not to inadvertently mark shots with erroneous indicators. For example, `proR1-thw-strinvert` will be marked as three things: a thalweg shot, the location of a structure and a riffle. However, this description is probably meant to indicate the location of an invert, and would be better expressed as `proR1-thw-str_invert`.\n",
    "\n",
    "The csv will be filtered using each name/morphtype combo found before the first break character. Each reach or cross section does not need to be continuous in the survey (e.g., a profile can be broken up by a cross section and vice-versa) but profiles do need to be ordered from upstream to downstream and cross sections are generally collected left to right (when facing downstream).\n",
    "\n",
    "You can inspect what profiles and cross sections have been identified:"
   ]
  },
  {
   "cell_type": "code",
   "execution_count": 25,
   "metadata": {},
   "outputs": [
    {
     "data": {
      "text/plain": [
       "{'Profiles': {'proFBSUP': 121,\n",
       "  'proFB': 90,\n",
       "  'proR1': 133,\n",
       "  'proCC': 141,\n",
       "  'proR3': 157,\n",
       "  'proR2': 164},\n",
       " 'Cross Sections': {'xsFBSUPpo': 49,\n",
       "  'xsFBSUPri': 45,\n",
       "  'xsFBpo': 35,\n",
       "  'xsFBri': 28,\n",
       "  'xsR1po': 58,\n",
       "  'xsR1ri': 52,\n",
       "  'xsR1SUP': 38,\n",
       "  'xsCCpo': 49,\n",
       "  'xsCCri': 38,\n",
       "  'xsR3ri': 49,\n",
       "  'xsR3po': 73,\n",
       "  'xsR3sup': 72,\n",
       "  'xsR2ri': 32,\n",
       "  'xsR2po': 53}}"
      ]
     },
     "execution_count": 25,
     "metadata": {},
     "output_type": "execute_result"
    }
   ],
   "source": [
    "survey.get_names()"
   ]
  },
  {
   "cell_type": "markdown",
   "metadata": {},
   "source": [
    "This is a nested dictionary with two top level keys, `Profiles` and `Cross Sections`. Each key points to another dictionary where each key is a feature name that points to the number of shots that are within it. Note that if the description does not indicate either a profile or cross section *before the first break character* then it will be excluded entirely during parsing. If you're satisfied all your features have been properly identified, you can use the the `get_profile_objects()` and `get_cross_objects()` methods to get a list of Profile and CrossSection objects respectively."
   ]
  },
  {
   "cell_type": "code",
   "execution_count": 23,
   "metadata": {},
   "outputs": [
    {
     "name": "stderr",
     "output_type": "stream",
     "text": [
      "WARNING:root:Overhangs present in geometry on XS xsFBSUPri.\n",
      "WARNING:root:Overhangs present in geometry on XS xsR1po.\n",
      "WARNING:root:Overhangs present in geometry on XS xsR1ri.\n",
      "WARNING:root:Overhangs present in geometry on XS xsR3po.\n",
      "WARNING:root:Overhangs present in geometry on XS xsR3sup.\n",
      "WARNING:root:Overhangs detected but could not be removed on XS xsR3sup.\n"
     ]
    }
   ],
   "source": [
    "profiles = survey.get_profile_objects()\n",
    "crosses = survey.get_cross_objects()"
   ]
  },
  {
   "cell_type": "markdown",
   "metadata": {},
   "source": [
    "Depending on your survey data you may get some warnings about some cross sections or profiles. These warnings are described in the documentation and in the appropriate Jupyter notebook tutorial.\n",
    "\n",
    "## Custom imports\n",
    "\n",
    "The default parameters when initializing a StreamSurvey object are as follows:\n",
    "\n",
    "`StreamSurvey(file, sep=',', metric=False, keywords=None, colRelations=None)`\n",
    "\n",
    "The sep argument indicates what delimiter is used in the csv (generally a comma). By default surveys are assumed to be done in feet, but if `metric` is set to `True` then the units will be assumed to be meters. The `keywords` and `colRelations` are `None` by default and standard dictionaries are passed to them upon intialization unless they are passed something else. `colRelations` takes a dictionary where each key is a standardized string that maps onto the column names in your csv."
   ]
  },
  {
   "cell_type": "code",
   "execution_count": 28,
   "metadata": {},
   "outputs": [
    {
     "data": {
      "text/plain": [
       "{'shotnum': 'Name',\n",
       " 'whys': 'Northing',\n",
       " 'exes': 'Easting',\n",
       " 'zees': 'Elevation',\n",
       " 'desc': 'Description'}"
      ]
     },
     "execution_count": 28,
     "metadata": {},
     "output_type": "execute_result"
    }
   ],
   "source": [
    "survey.colRelations"
   ]
  },
  {
   "cell_type": "markdown",
   "metadata": {},
   "source": [
    "Above is the standard `colRelations` dict. They keys shown are all mandatory, but you can alter the associated values to fit your csv. However, it is recommended to use the standard dictionary when possible.\n",
    "\n",
    "`keywords` is used to parse the description column in your survey."
   ]
  },
  {
   "cell_type": "code",
   "execution_count": 29,
   "metadata": {},
   "outputs": [
    {
     "data": {
      "text/plain": [
       "{'Profile': 'pro',\n",
       " 'Thalweg': 'thw',\n",
       " 'Riffle': 'ri',\n",
       " 'Run': 'ru',\n",
       " 'Pool': 'po',\n",
       " 'Glide': 'gl',\n",
       " 'Water Surface': 'ws',\n",
       " 'Bankfull': 'bkf',\n",
       " 'Top of Bank': 'tob',\n",
       " 'Cross Section': 'xs',\n",
       " 'Structure': 'str',\n",
       " 'breakChar': '-',\n",
       " 'commentChar': '_'}"
      ]
     },
     "execution_count": 29,
     "metadata": {},
     "output_type": "execute_result"
    }
   ],
   "source": [
    "survey.keywords"
   ]
  },
  {
   "cell_type": "markdown",
   "metadata": {},
   "source": [
    "Like `colRelations`, `keywords` is a dict. Not all keys are mandatory, but `Profile`, `Cross Section`, `Thalweg`, `breakChar` and `commentChar` are. Additionally, `Riffle`, `Run`, `Pool`, `Glide`, `Water Surface`, `Bankfull` and `Top of Bank` are recommended as they are used to fill out some attributes for both `Profile` and `CrossSection` objects. Any additional keys do not effect the produced `CrossSection` objects but they do create new columns in the `df` attribute for the produced `Profile` objects.\n",
    "\n",
    "The methods `get_profile_objects()` and `get_cross_objects()` also have some default parameters:\n",
    "\n",
    "`survey.get_profile_objects(stripName=False)`\n",
    "\n",
    "`survey.get_profile_objects(guessType=True, project=True, stripName=False)`\n",
    "\n",
    "For both methods the `stripName` argument, when `True`, removes the values paired to the `Profile` and `Cross Section` keys in the `keywords` dictionary from the parameters passed as the `name` argument to each `Profile` or `CrossSection` object created. For example, in our variable `survey`, `proFBSUP` would be stripped to `FBSUP`. If `stripName` is `False`, then the name passed would be `proFBSUP`.\n",
    "\n",
    "`project` indicates whether or not the cross sections should have their survey shots projected onto the centerline connecting the first and last points in each cross section, and if `guessType` is `True` then `StreamSurvey` will attempt to guess if it's a riffle, run, pool or glide. It does this by looking if the name/morphtype combo (e.g., `xsFBSUPpo`) contains a value paired to any of the keys `Riffle`, `Run`, `Pool` or `Glide` in `keywords`. If `guessType` is `True`, care must be taken to not accidently mark a morphology in the name/morphtype combo. For example if you're survey a cross section on the piney river and your description is `xsPineyRiver`, the ri in river would be incorrectly identified as a riffle is `guessType` is `True` and the default `keywords` dictionary is used. In instances like this then either `guessType` should be set to `False`, the description changed, or the `keywords` dictionary altered."
   ]
  },
  {
   "cell_type": "code",
   "execution_count": null,
   "metadata": {},
   "outputs": [],
   "source": []
  }
 ],
 "metadata": {
  "kernelspec": {
   "display_name": "Python 3",
   "language": "python",
   "name": "python3"
  },
  "language_info": {
   "codemirror_mode": {
    "name": "ipython",
    "version": 3
   },
   "file_extension": ".py",
   "mimetype": "text/x-python",
   "name": "python",
   "nbconvert_exporter": "python",
   "pygments_lexer": "ipython3",
   "version": "3.7.0"
  }
 },
 "nbformat": 4,
 "nbformat_minor": 2
}
