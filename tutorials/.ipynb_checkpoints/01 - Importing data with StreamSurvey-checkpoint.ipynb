{
 "cells": [
  {
   "cell_type": "markdown",
   "metadata": {},
   "source": [
    "# Importing stream surveys with the StreamSurvey class\n",
    "\n",
    "Most geomorphic surveys are conducted using either a total station or laser level. This data is often stored or transcribed into a tabular format where each row indicates the number, northing, easting, elevation and description of each point (or shot) that was collected. An example of such data can be found [here](https://github.com/rsjones94/pyfluv/blob/master/pyfluv/Data/wpr_myr5_survey_adjusted.csv) (this data is included with pyfluv). Because breaking down this data can be tedious, especially for large datasets, pyfluv includes a StreamSurvey class which parses this data and exports CrossSection and Profile objects."
   ]
  },
  {
   "cell_type": "code",
   "execution_count": 2,
   "metadata": {
    "scrolled": true
   },
   "outputs": [],
   "source": [
    "import pyfluv\n",
    "survey = pyfluv.piney_survey()"
   ]
  },
  {
   "cell_type": "markdown",
   "metadata": {},
   "source": [
    "The above snippet reads in the previously linked tabular survey and returns a StreamSurvey objects. A StreamSurvey object can be initialized with `CrossSection('path/to/your/file.csv')`. By default the csv must contain columns headed with `Name`, `Northing`, `Easting`, and `Description`. Other columns are permitted but will be ignored. The `Name` column should contain integers that generally indicate what order the shots were taken in, though the column itself does not need to be ordered. The StreamSurvey object will use the `Description` column to group profiles and cross sections together and decide what morphological feature a given shot corresponds to. Entries must follow the following format:\n",
    "\n",
    "`[morphtype][name]-[indicator1]-[indicator2]-...-[indicatorN]_[comment]`\n",
    "\n",
    "Let's take a look at some examples."
   ]
  },
  {
   "cell_type": "code",
   "execution_count": 4,
   "metadata": {},
   "outputs": [
    {
     "name": "stdout",
     "output_type": "stream",
     "text": [
      "Name                      5\n",
      "Northing            928.442\n",
      "Easting             952.319\n",
      "Elevation           665.254\n",
      "Description    proFBSUP-bri\n",
      "Name: 2, dtype: object\n"
     ]
    }
   ],
   "source": [
    "print(survey.data.iloc[2])"
   ]
  },
  {
   "cell_type": "markdown",
   "metadata": {},
   "source": [
    "The survey data is stored as a `pandas` dataframe so we index into it using `iloc`, and the description is `proFBSUP-bri`. You can check how the StreamSurvey object will parse the descriptions:"
   ]
  },
  {
   "cell_type": "code",
   "execution_count": 6,
   "metadata": {},
   "outputs": [
    {
     "name": "stdout",
     "output_type": "stream",
     "text": [
      "{'Profile': 'pro', 'Thalweg': 'thw', 'Riffle': 'ri', 'Run': 'ru', 'Pool': 'po', 'Glide': 'gl', 'Water Surface': 'ws', 'Bankfull': 'bkf', 'Top of Bank': 'tob', 'Cross Section': 'xs', 'Structure': 'str', 'breakChar': '-', 'commentChar': '_'}\n"
     ]
    }
   ],
   "source": [
    "print(survey.keywords)"
   ]
  },
  {
   "cell_type": "markdown",
   "metadata": {},
   "source": [
    "The keywords attribute is a dictionary that relates survey shorthands to stream features. StreamSurvey will use this dictionary to figure out what a shot represents. The `breakChar` key indicates that a hyphen (`-`) will be used to split the survey description. Characters before the first break will be evaluated for two things: whether or not it corresponds to a profile or a cross section and what reach or cross section group it belongs to. In this case, `proFBSUP` indicates a profile with the name FBSUP. All segments after the first break are evaluated for morphological features. The second segment is `bri` which contains `ri` and so is considered a riffle. The keywords dictionary also contains a `commentChar` key, which tells us that comments are indicated with an underscore (`_`). Any characters after a comment character are not used during parsing."
   ]
  },
  {
   "cell_type": "code",
   "execution_count": 7,
   "metadata": {
    "scrolled": true
   },
   "outputs": [
    {
     "name": "stdout",
     "output_type": "stream",
     "text": [
      "Name                     6\n",
      "Northing           928.298\n",
      "Easting            952.014\n",
      "Elevation          665.703\n",
      "Description    proFBSUP-ws\n",
      "Name: 3, dtype: object\n"
     ]
    }
   ],
   "source": [
    "print(survey.data.iloc[3])"
   ]
  },
  {
   "cell_type": "markdown",
   "metadata": {},
   "source": [
    "This next shot is still a profile with the name FBSUP, but the `ws` indicates it is a water surface shot. During parsing, any shots that are not a substrate shot (thalweg, riffle, run, pool, glide) are \"associated\" with the most recent substrate shot, meaning they will take on the northing and easting of that substrate shot. Thalweg calls should be made for profile shots if it is unclear whether or not the substrate is a riffle, run, pool or glide, and profile shots are required to have at least one valid indicator. Cross section shots do not need an indicator but it is assumed it is a substrate shot if nothing is provided.\n",
    "\n",
    "Some care must be taken not to inadvertently mark shots with erroneous indicators. For example, `proR1-thw-strinvert` will be marked as three things: a thalweg shot, the location of a structure and a riffle. However, this description is probably meant to indicate the location of an invert, and would be better expressed as `proR1-thw-str_invert`.\n",
    "\n",
    "The csv will be filtered using each name/morphtype combo found before the first break character. Each reach or cross section does not need to be continuous in the survey (e.g., a profile can be broken up by a cross section and vice-versa) but profiles do need to be ordered from upstream to downstream and cross sections are generally collected left to right (when facing downstream).\n",
    "\n",
    "You can inspect what profiles and cross sections have been identified:"
   ]
  },
  {
   "cell_type": "code",
   "execution_count": 11,
   "metadata": {},
   "outputs": [
    {
     "name": "stdout",
     "output_type": "stream",
     "text": [
      "{'Profiles': {'proFBSUP': 121, 'proFB': 90, 'proR1': 133, 'proCC': 141, 'proR3': 157, 'proR2': 164}, 'Cross Sections': {'xsFBSUPpo': 49, 'xsFBSUPri': 45, 'xsFBpo': 35, 'xsFBri': 28, 'xsR1po': 58, 'xsR1ri': 52, 'xsR1SUP': 38, 'xsCCpo': 49, 'xsCCri': 38, 'xsR3ri': 49, 'xsR3po': 73, 'xsR3sup': 72, 'xsR2ri': 32, 'xsR2po': 53}}\n"
     ]
    }
   ],
   "source": [
    "print(survey.get_names())"
   ]
  },
  {
   "cell_type": "markdown",
   "metadata": {},
   "source": [
    "This is a nested dictionary with two top level keys, `Profiles` and `Cross Sections`. Each key points to another dictionary where each key is a feature name that points to the number of shots that are within it. Note that if the description does not indicate either a profile or cross section *before the first break character* then it will be excluded entirely during parsing. If you're satisfied all your features have been properly identified, you can use the the `get_profile_objects()` and `get_cross_objects()` methods to get a list of Profile and CrossSection objects respectively."
   ]
  },
  {
   "cell_type": "code",
   "execution_count": 12,
   "metadata": {},
   "outputs": [
    {
     "name": "stderr",
     "output_type": "stream",
     "text": [
      "WARNING:root:Overhangs present in geometry on XS xsFBSUPri.\n",
      "WARNING:root:Overhangs present in geometry on XS xsR1po.\n",
      "WARNING:root:Overhangs present in geometry on XS xsR1ri.\n",
      "WARNING:root:Overhangs present in geometry on XS xsR3po.\n",
      "WARNING:root:Overhangs present in geometry on XS xsR3sup.\n",
      "WARNING:root:Overhangs detected but could not be removed on XS xsR3sup.\n"
     ]
    }
   ],
   "source": [
    "crosses = survey.get_profile_objects()\n",
    "profiles = survey.get_cross_objects()"
   ]
  },
  {
   "cell_type": "markdown",
   "metadata": {},
   "source": [
    "Depending on your survey data you may get some warnings about some cross sections or profiles."
   ]
  },
  {
   "cell_type": "code",
   "execution_count": null,
   "metadata": {},
   "outputs": [],
   "source": []
  }
 ],
 "metadata": {
  "kernelspec": {
   "display_name": "Python 3",
   "language": "python",
   "name": "python3"
  },
  "language_info": {
   "codemirror_mode": {
    "name": "ipython",
    "version": 3
   },
   "file_extension": ".py",
   "mimetype": "text/x-python",
   "name": "python",
   "nbconvert_exporter": "python",
   "pygments_lexer": "ipython3",
   "version": "3.7.0"
  }
 },
 "nbformat": 4,
 "nbformat_minor": 2
}
