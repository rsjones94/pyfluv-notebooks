{
 "cells": [
  {
   "cell_type": "markdown",
   "metadata": {},
   "source": [
    "# Importing stream surveys with the StreamSurvey class"
   ]
  },
  {
   "cell_type": "code",
   "execution_count": 1,
   "metadata": {},
   "outputs": [
    {
     "name": "stderr",
     "output_type": "stream",
     "text": [
      "WARNING:root:Overhangs present in geometry on XS xsFBSUPri.\n",
      "WARNING:root:Overhangs present in geometry on XS xsR1po.\n",
      "WARNING:root:Overhangs present in geometry on XS xsR1ri.\n",
      "WARNING:root:Overhangs present in geometry on XS xsR3po.\n",
      "WARNING:root:Overhangs present in geometry on XS xsR3sup.\n",
      "WARNING:root:Overhangs detected but could not be removed on XS xsR3sup.\n"
     ]
    },
    {
     "name": "stdout",
     "output_type": "stream",
     "text": [
      "664.0486007999999\n",
      "           exes         whys        zees           desc    Station\n",
      "0   1117.873323  1032.184436  668.685738  xsFBSUPri-lbp   0.000000\n",
      "1   1117.930022  1032.060818  668.304030      xsFBSUPri   0.118115\n",
      "2   1117.798719  1030.516229  668.278534      xsFBSUPri   1.668264\n",
      "3   1117.660277  1027.880475  668.181614      xsFBSUPri   4.305927\n",
      "4   1117.398727  1025.626678  668.245860      xsFBSUPri   6.574028\n",
      "5   1117.272372  1023.152709  668.250774      xsFBSUPri   9.049472\n",
      "6   1117.037847  1020.540625  668.187817      xsFBSUPri  11.672062\n",
      "7   1116.909199  1018.230017  668.033681      xsFBSUPri  13.984989\n",
      "8   1116.727023  1016.597222  667.974555      xsFBSUPri  15.627500\n",
      "9   1116.623377  1014.620962  667.607253      xsFBSUPri  17.605178\n",
      "10  1116.413070  1012.631836  667.188877      xsFBSUPri  19.605111\n",
      "11  1116.209535  1010.771093  666.628196      xsFBSUPri  21.476566\n",
      "12  1116.083644  1008.727677  666.172177      xsFBSUPri  23.523105\n",
      "13  1115.960695  1007.624859  665.814810      xsFBSUPri  24.632477\n",
      "14  1116.045715  1005.704606  664.970840      xsFBSUPri  26.537670\n",
      "15  1115.712468  1004.736428  664.796439      xsFBSUPri  27.531542\n",
      "16  1115.581845  1003.524316  664.379089      xsFBSUPri  28.750458\n",
      "17  1115.398875  1002.701643  663.502093      xsFBSUPri  29.586096\n",
      "18  1115.271751  1001.614776  663.409538      xsFBSUPri  30.679949\n",
      "19  1115.236290  1000.480542  663.381041      xsFBSUPri  31.812871\n",
      "20  1115.179290   999.177906  663.619323      xsFBSUPri  33.115440\n",
      "21  1114.869696   997.480131  663.629090      xsFBSUPri  34.833952\n",
      "22  1114.803843   995.904920  663.551868      xsFBSUPri  36.408810\n",
      "23  1114.691483   994.173112  663.552511      xsFBSUPri  38.143767\n",
      "24  1114.623400   992.926650  663.355342      xsFBSUPri  39.391363\n",
      "25  1114.636060   993.076519  664.048601   xsFBSUPri-ws  39.240962\n",
      "26  1114.546175   991.564892  663.543335      xsFBSUPri  40.754612\n",
      "27  1114.289375   990.241704  663.844497      xsFBSUPri  42.095335\n",
      "28  1113.938816   989.330594  664.230518      xsFBSUPri  43.033895\n",
      "29  1114.180758   987.755474  664.297373      xsFBSUPri  44.581422\n",
      "30  1114.179407   986.608143  664.379355      xsFBSUPri  45.724371\n",
      "31  1113.896324   985.241043  664.850222      xsFBSUPri  47.111160\n",
      "32  1113.974079   984.118433  665.040133      xsFBSUPri  48.222483\n",
      "33  1113.732218   981.837727  664.935654      xsFBSUPri  50.515645\n",
      "34  1113.493973   979.901256  665.015361      xsFBSUPri  52.465602\n",
      "35  1113.409467   977.774156  664.829366      xsFBSUPri  54.591834\n",
      "36  1113.197524   975.812639  664.669763      xsFBSUPri  56.564412\n",
      "37  1112.847998   974.236618  664.658162      xsFBSUPri  58.165182\n",
      "38  1112.572367   972.761068  665.225632      xsFBSUPri  59.659336\n",
      "39  1112.469396   970.882298  666.600084      xsFBSUPri  61.539847\n",
      "40  1112.268616   968.657747  667.303571      xsFBSUPri  63.773438\n",
      "41  1112.096530   965.911327  667.745378      xsFBSUPri  66.524311\n",
      "42  1111.795821   963.476313  668.125235      xsFBSUPri  68.976383\n",
      "43  1111.584608   960.870802  668.682399      xsFBSUPri  71.590363\n",
      "44  1111.529734   960.788089  669.040155  xsFBSUPri-rbp  71.677608\n"
     ]
    }
   ],
   "source": [
    "import matplotlib.pyplot as plt\n",
    "import pyfluv\n",
    "\n",
    "survey = pyfluv.piney_survey()\n",
    "\n",
    "xs = survey.get_cross_objects()\n",
    "\n",
    "print(xs[1].wsEl)\n",
    "print(xs[1].df)\n",
    "plt.figure()\n",
    "xs[1].qplot()"
   ]
  },
  {
   "cell_type": "code",
   "execution_count": null,
   "metadata": {},
   "outputs": [],
   "source": []
  }
 ],
 "metadata": {
  "kernelspec": {
   "display_name": "Python 3",
   "language": "python",
   "name": "python3"
  },
  "language_info": {
   "codemirror_mode": {
    "name": "ipython",
    "version": 3
   },
   "file_extension": ".py",
   "mimetype": "text/x-python",
   "name": "python",
   "nbconvert_exporter": "python",
   "pygments_lexer": "ipython3",
   "version": "3.7.0"
  }
 },
 "nbformat": 4,
 "nbformat_minor": 2
}
